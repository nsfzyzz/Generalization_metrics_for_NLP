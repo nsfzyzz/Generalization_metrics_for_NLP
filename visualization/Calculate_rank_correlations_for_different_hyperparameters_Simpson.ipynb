{
 "cells": [
  {
   "cell_type": "markdown",
   "metadata": {},
   "source": [
    "# This file is used to get all the rank correlations for different hyperparameters"
   ]
  },
  {
   "cell_type": "code",
   "execution_count": 25,
   "metadata": {},
   "outputs": [],
   "source": [
    "import glob\n",
    "import os\n",
    "import pickle\n",
    "metric_folders = glob.glob(\"../results/*/*\")"
   ]
  },
  {
   "cell_type": "code",
   "execution_count": 30,
   "metadata": {},
   "outputs": [],
   "source": [
    "results = {}\n",
    "bleu_type = 'id_bleu_gap' # ['id_bleu', 'id_bleu_gap']\n",
    "\n",
    "for path in metric_folders:\n",
    "    metric = os.path.basename(path)\n",
    "    results_this_metric = pickle.load(open(os.path.join(path, f'corr_{bleu_type}.pkl'), 'rb'))\n",
    "    results[metric] = []\n",
    "    for group in ['lr', 'sample']:\n",
    "        results[metric] += results_this_metric[group]\n",
    "    \n",
    "    if bleu_type == 'id_bleu':\n",
    "        print('negate the results!')\n",
    "        # Negate the correlation because we want the metrics to be negatively correlated\n",
    "        results[metric] = [-x for x in results[metric]]"
   ]
  },
  {
   "cell_type": "code",
   "execution_count": null,
   "metadata": {},
   "outputs": [],
   "source": [
    "print(results)"
   ]
  },
  {
   "cell_type": "code",
   "execution_count": null,
   "metadata": {},
   "outputs": [],
   "source": []
  }
 ],
 "metadata": {
  "kernelspec": {
   "display_name": "Python 3",
   "language": "python",
   "name": "python3"
  },
  "language_info": {
   "codemirror_mode": {
    "name": "ipython",
    "version": 3
   },
   "file_extension": ".py",
   "mimetype": "text/x-python",
   "name": "python",
   "nbconvert_exporter": "python",
   "pygments_lexer": "ipython3",
   "version": "3.8.5"
  }
 },
 "nbformat": 4,
 "nbformat_minor": 4
}
